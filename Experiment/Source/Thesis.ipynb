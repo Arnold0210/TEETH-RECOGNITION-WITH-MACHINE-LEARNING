{
 "cells": [
  {
   "cell_type": "code",
   "execution_count": 1,
   "metadata": {
    "collapsed": false
   },
   "outputs": [
    {
     "name": "stdout",
     "output_type": "stream",
     "text": [
      "PreProcessing Directory Already Exists.\n",
      "FeatureExtraction Directory Already Exists.\n",
      "Sampling Directory Already Exists.\n",
      "Classification Directory Already Exists.\n",
      "ResizeImages Directory Already Exists.\n",
      "RGB2YCbCr Directory Already Exists.\n",
      "HSV Directory Already Exists.\n",
      "LAB Directory Already Exists.\n",
      "Lab_ Directory Already Exists.\n",
      "Segmentation Directory Already Exists.\n",
      "Image original shape: \n",
      " Height: 3216 , Width: 4288\n",
      "Exitoso RGB2_LAB\n"
     ]
    },
    {
     "ename": "error",
     "evalue": "OpenCV(4.0.0) C:\\projects\\opencv-python\\opencv\\modules\\imgproc\\src\\shapedescr.cpp:272: error: (-215:Assertion failed) npoints >= 0 && (depth == CV_32F || depth == CV_32S) in function 'cv::contourArea'\n",
     "output_type": "error",
     "traceback": [
      "\u001b[0;31m---------------------------------------------------------------------------\u001b[0m",
      "\u001b[0;31merror\u001b[0m                                     Traceback (most recent call last)",
      "\u001b[0;32m<ipython-input-1-ca77901d30d8>\u001b[0m in \u001b[0;36m<module>\u001b[0;34m()\u001b[0m\n\u001b[1;32m     92\u001b[0m \u001b[1;32mif\u001b[0m \u001b[0m__name__\u001b[0m \u001b[1;33m==\u001b[0m \u001b[1;34m'__main__'\u001b[0m\u001b[1;33m:\u001b[0m\u001b[1;33m\u001b[0m\u001b[0m\n\u001b[1;32m     93\u001b[0m     \u001b[0mtesis\u001b[0m \u001b[1;33m=\u001b[0m \u001b[0mMainClass\u001b[0m\u001b[1;33m(\u001b[0m\u001b[1;33m)\u001b[0m\u001b[1;33m\u001b[0m\u001b[0m\n\u001b[0;32m---> 94\u001b[0;31m     \u001b[0mtesis\u001b[0m\u001b[1;33m.\u001b[0m\u001b[0mmain_run\u001b[0m\u001b[1;33m(\u001b[0m\u001b[1;33m)\u001b[0m\u001b[1;33m\u001b[0m\u001b[0m\n\u001b[0m",
      "\u001b[0;32m<ipython-input-1-ca77901d30d8>\u001b[0m in \u001b[0;36mmain_run\u001b[0;34m(self)\u001b[0m\n\u001b[1;32m     80\u001b[0m         \u001b[0mimg_rgb2hsv\u001b[0m \u001b[1;33m=\u001b[0m \u001b[0mpp\u001b[0m\u001b[1;33m.\u001b[0m\u001b[0mrgb_2_LAB\u001b[0m\u001b[1;33m(\u001b[0m\u001b[0mimg_resize\u001b[0m\u001b[1;33m,\u001b[0m \u001b[0mname\u001b[0m\u001b[1;33m)\u001b[0m\u001b[1;33m\u001b[0m\u001b[0m\n\u001b[1;32m     81\u001b[0m         \u001b[0mimg_rgb2hsv\u001b[0m \u001b[1;33m=\u001b[0m \u001b[0mpp\u001b[0m\u001b[1;33m.\u001b[0m\u001b[0mrgb_2_Lab\u001b[0m\u001b[1;33m(\u001b[0m\u001b[0mimg_resize\u001b[0m\u001b[1;33m,\u001b[0m \u001b[0mname\u001b[0m\u001b[1;33m)\u001b[0m\u001b[1;33m\u001b[0m\u001b[0m\n\u001b[0;32m---> 82\u001b[0;31m         \u001b[0mimg_segmentation\u001b[0m \u001b[1;33m=\u001b[0m \u001b[0mpp\u001b[0m\u001b[1;33m.\u001b[0m\u001b[0msegmentation\u001b[0m\u001b[1;33m(\u001b[0m\u001b[0mimg_resize\u001b[0m\u001b[1;33m,\u001b[0m \u001b[0mname\u001b[0m\u001b[1;33m)\u001b[0m\u001b[1;33m\u001b[0m\u001b[0m\n\u001b[0m\u001b[1;32m     83\u001b[0m         \u001b[0mheight_res\u001b[0m\u001b[1;33m,\u001b[0m \u001b[0mwidth_res\u001b[0m\u001b[1;33m,\u001b[0m \u001b[0mdepth_res\u001b[0m \u001b[1;33m=\u001b[0m \u001b[0mimg_rgb2hsv\u001b[0m\u001b[1;33m.\u001b[0m\u001b[0mshape\u001b[0m\u001b[1;33m\u001b[0m\u001b[0m\n\u001b[1;32m     84\u001b[0m         \u001b[0mprint\u001b[0m\u001b[1;33m(\u001b[0m\u001b[1;34m\"Image Resize shape: \\n Height:\"\u001b[0m\u001b[1;33m,\u001b[0m \u001b[0mheight_res\u001b[0m\u001b[1;33m,\u001b[0m \u001b[1;34m\", Width:\"\u001b[0m\u001b[1;33m,\u001b[0m \u001b[0mwidth_res\u001b[0m\u001b[1;33m)\u001b[0m\u001b[1;33m\u001b[0m\u001b[0m\n",
      "\u001b[0;32mC:\\WinPython-64bit-3.5.2.3Qt5\\notebooks\\TEETH-RECOGNITION-WITH-MACHINE-LEARNING\\Experiment\\Source\\PreProcessingData.py\u001b[0m in \u001b[0;36msegmentation\u001b[0;34m(self, image, name)\u001b[0m\n\u001b[1;32m    156\u001b[0m         \u001b[0mdilated_image\u001b[0m \u001b[1;33m=\u001b[0m \u001b[0mcv\u001b[0m\u001b[1;33m.\u001b[0m\u001b[0mdilate\u001b[0m\u001b[1;33m(\u001b[0m\u001b[0mcanny_image\u001b[0m\u001b[1;33m,\u001b[0m\u001b[0mkernel\u001b[0m\u001b[1;33m,\u001b[0m\u001b[0miterations\u001b[0m\u001b[1;33m=\u001b[0m\u001b[1;36m1\u001b[0m\u001b[1;33m)\u001b[0m\u001b[1;33m\u001b[0m\u001b[0m\n\u001b[1;32m    157\u001b[0m         \u001b[0mnew\u001b[0m\u001b[1;33m,\u001b[0m\u001b[0mcontours\u001b[0m \u001b[1;33m=\u001b[0m \u001b[0mcv\u001b[0m\u001b[1;33m.\u001b[0m\u001b[0mfindContours\u001b[0m\u001b[1;33m(\u001b[0m\u001b[0mdilated_image\u001b[0m\u001b[1;33m,\u001b[0m \u001b[0mcv\u001b[0m\u001b[1;33m.\u001b[0m\u001b[0mRETR_TREE\u001b[0m\u001b[1;33m,\u001b[0m \u001b[0mcv\u001b[0m\u001b[1;33m.\u001b[0m\u001b[0mCHAIN_APPROX_SIMPLE\u001b[0m\u001b[1;33m)\u001b[0m\u001b[1;33m\u001b[0m\u001b[0m\n\u001b[0;32m--> 158\u001b[0;31m         \u001b[0mcontours\u001b[0m\u001b[1;33m=\u001b[0m \u001b[0msorted\u001b[0m\u001b[1;33m(\u001b[0m\u001b[0mcontours\u001b[0m\u001b[1;33m,\u001b[0m \u001b[0mkey\u001b[0m \u001b[1;33m=\u001b[0m \u001b[0mcv\u001b[0m\u001b[1;33m.\u001b[0m\u001b[0mcontourArea\u001b[0m\u001b[1;33m,\u001b[0m \u001b[0mreverse\u001b[0m \u001b[1;33m=\u001b[0m \u001b[1;32mTrue\u001b[0m\u001b[1;33m)\u001b[0m\u001b[1;33m[\u001b[0m\u001b[1;33m:\u001b[0m\u001b[1;36m10\u001b[0m\u001b[1;33m]\u001b[0m\u001b[1;33m\u001b[0m\u001b[0m\n\u001b[0m\u001b[1;32m    159\u001b[0m         \u001b[0mc\u001b[0m\u001b[1;33m=\u001b[0m\u001b[0mcontours\u001b[0m\u001b[1;33m[\u001b[0m\u001b[1;36m0\u001b[0m\u001b[1;33m]\u001b[0m\u001b[1;33m\u001b[0m\u001b[0m\n\u001b[1;32m    160\u001b[0m         \u001b[0mfinal\u001b[0m \u001b[1;33m=\u001b[0m \u001b[0mcv\u001b[0m\u001b[1;33m.\u001b[0m\u001b[0mdrawContours\u001b[0m\u001b[1;33m(\u001b[0m\u001b[0mimg\u001b[0m\u001b[1;33m,\u001b[0m \u001b[1;33m[\u001b[0m\u001b[0mc\u001b[0m\u001b[1;33m]\u001b[0m\u001b[1;33m,\u001b[0m \u001b[1;33m-\u001b[0m\u001b[1;36m1\u001b[0m\u001b[1;33m,\u001b[0m \u001b[1;33m(\u001b[0m\u001b[1;36m255\u001b[0m\u001b[1;33m,\u001b[0m\u001b[1;36m0\u001b[0m\u001b[1;33m,\u001b[0m \u001b[1;36m0\u001b[0m\u001b[1;33m)\u001b[0m\u001b[1;33m,\u001b[0m \u001b[1;36m3\u001b[0m\u001b[1;33m)\u001b[0m\u001b[1;33m\u001b[0m\u001b[0m\n",
      "\u001b[0;31merror\u001b[0m: OpenCV(4.0.0) C:\\projects\\opencv-python\\opencv\\modules\\imgproc\\src\\shapedescr.cpp:272: error: (-215:Assertion failed) npoints >= 0 && (depth == CV_32F || depth == CV_32S) in function 'cv::contourArea'\n"
     ]
    }
   ],
   "source": [
    "#  Copyright (c) 2019. Arnold Julian Herrera Quinones -  Cristhian Camilo Arce Garcia.\n",
    "#  All Rights Reserved\n",
    "#\n",
    "#  This product is protected by copyright and distributed under\n",
    "#  licenses restricting copying, distribution, and decompilation.\n",
    "#  It is forbidden the use partial or global of this algorithm  unless authors written permission.\n",
    "#\n",
    "\n",
    "import errno\n",
    "import os\n",
    "\n",
    "import cv2 as cv\n",
    "import easygui\n",
    "\n",
    "import PreProcessingData as pD\n",
    "import ReadImages as rI\n",
    "\n",
    "def show(image):\n",
    "    cv.imshow('Imagen ', image)\n",
    "    cv.waitKey(0)\n",
    "    cv.destroyAllWindows()\n",
    "\n",
    "\n",
    "class MainClass:\n",
    "    PROJECT_PATH = os.path.join(os.getcwd(), os.path.pardir)\n",
    "    PATH_IMAGES = os.path.abspath(\n",
    "        os.path.join(os.path.join(os.path.join(os.getcwd(), os.pardir), os.pardir), \"DATASET\"))\n",
    "    readimages = None\n",
    "    preprocessing = None\n",
    "\n",
    "    def __init__(self):\n",
    "        try:\n",
    "            if not os.path.exists(self.PROJECT_PATH + 'PreProcessing'):\n",
    "                os.mkdir(os.path.join(self.PROJECT_PATH, 'PreProcessing'))\n",
    "                print('Directory Created')\n",
    "        except OSError as e:\n",
    "            if e.errno == errno.EEXIST:\n",
    "                print('PreProcessing Directory Already Exists.')\n",
    "            else:\n",
    "                raise\n",
    "        try:\n",
    "            if not os.path.exists(self.PROJECT_PATH + 'FeatureExtraction'):\n",
    "                os.mkdir(os.path.join(self.PROJECT_PATH, 'FeatureExtraction'))\n",
    "                print('Directory Created')\n",
    "        except OSError as e:\n",
    "            if e.errno == errno.EEXIST:\n",
    "                print('FeatureExtraction Directory Already Exists.')\n",
    "            else:\n",
    "                raise\n",
    "        try:\n",
    "            if not os.path.exists(self.PROJECT_PATH + 'Sampling'):\n",
    "                os.mkdir(os.path.join(self.PROJECT_PATH, 'Sampling'))\n",
    "                print('Directory Created')\n",
    "        except OSError as e:\n",
    "            if e.errno == errno.EEXIST:\n",
    "                print('Sampling Directory Already Exists.')\n",
    "            else:\n",
    "                raise\n",
    "        try:\n",
    "            if not os.path.exists(self.PROJECT_PATH + 'Classification'):\n",
    "                os.mkdir(os.path.join(self.PROJECT_PATH, 'Classification'))\n",
    "                print('Directory Classification Created')\n",
    "        except OSError as e:\n",
    "            if e.errno == errno.EEXIST:\n",
    "                print('Classification Directory Already Exists.')\n",
    "            else:\n",
    "                raise\n",
    "        self.readimages = rI.LoadData(self.PATH_IMAGES)\n",
    "        self.preprocessing = pD.PreProcessingData(self.PROJECT_PATH, self.PATH_IMAGES)\n",
    "\n",
    "    def main_run(self):\n",
    "        read = self.readimages\n",
    "        pp = self.preprocessing\n",
    "        img, name = read.read_One_Image(self.PATH_IMAGES)\n",
    "        height_ori, width_ori, depth_ori = img.shape\n",
    "        print(\"Image original shape: \\n Height:\", height_ori, \", Width:\", width_ori)\n",
    "        img_resize = pp.resize_Image(img, name)\n",
    "        img_rgb2ycbcr = pp.rgb_2_YCrCb(img_resize,name)\n",
    "        img_rgb2hsv = pp.rgb_2_HSV(img_resize,name)\n",
    "        img_rgb2hsv = pp.rgb_2_LAB(img_resize, name)\n",
    "        img_rgb2hsv = pp.rgb_2_Lab(img_resize, name)\n",
    "        img_segmentation = pp.segmentation(img_resize, name)\n",
    "        height_res, width_res, depth_res = img_rgb2hsv.shape\n",
    "        print(\"Image Resize shape: \\n Height:\", height_res, \", Width:\", width_res)\n",
    "        easygui.msgbox(\"Image original shape: \\n Height:\" + str(height_ori) + \"px, Width:\" + str(width_ori) + \"px\" +\n",
    "                       \"\\n Image Resize shape: \\n Height:\" + str(height_res) + \"px, Width:\" + str(width_res) + \"px\",\n",
    "                       image=os.path.join(os.path.join(os.getcwd(), os.path.pardir),\n",
    "                                          'PreProcessing/Segmentation/' + name),\n",
    "                       title=\"Image Shape - PreProcessing \"+name)\n",
    "\n",
    "\n",
    "if __name__ == '__main__':\n",
    "    tesis = MainClass()\n",
    "    tesis.main_run()"
   ]
  },
  {
   "cell_type": "code",
   "execution_count": null,
   "metadata": {
    "collapsed": false
   },
   "outputs": [],
   "source": [
    "!pip install opencv-python"
   ]
  }
 ],
 "metadata": {
  "celltoolbar": "Edit Metadata",
  "kernelspec": {
   "display_name": "Python 3",
   "language": "python",
   "name": "python3"
  },
  "language_info": {
   "codemirror_mode": {
    "name": "ipython",
    "version": 3
   },
   "file_extension": ".py",
   "mimetype": "text/x-python",
   "name": "python",
   "nbconvert_exporter": "python",
   "pygments_lexer": "ipython3",
   "version": "3.5.2"
  }
 },
 "nbformat": 4,
 "nbformat_minor": 1
}
